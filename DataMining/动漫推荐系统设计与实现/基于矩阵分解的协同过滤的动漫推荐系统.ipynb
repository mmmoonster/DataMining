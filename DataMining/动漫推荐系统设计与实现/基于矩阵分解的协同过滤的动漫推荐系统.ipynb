{
 "cells": [
  {
   "cell_type": "code",
   "execution_count": 1,
   "metadata": {},
   "outputs": [
    {
     "name": "stderr",
     "output_type": "stream",
     "text": [
      "C:\\Users\\Administrator\\anaconda3\\envs\\tensorflow\\lib\\site-packages\\tensorflow\\python\\framework\\dtypes.py:458: FutureWarning: Passing (type, 1) or '1type' as a synonym of type is deprecated; in a future version of numpy, it will be understood as (type, (1,)) / '(1,)type'.\n",
      "  _np_qint8 = np.dtype([(\"qint8\", np.int8, 1)])\n",
      "C:\\Users\\Administrator\\anaconda3\\envs\\tensorflow\\lib\\site-packages\\tensorflow\\python\\framework\\dtypes.py:459: FutureWarning: Passing (type, 1) or '1type' as a synonym of type is deprecated; in a future version of numpy, it will be understood as (type, (1,)) / '(1,)type'.\n",
      "  _np_quint8 = np.dtype([(\"quint8\", np.uint8, 1)])\n",
      "C:\\Users\\Administrator\\anaconda3\\envs\\tensorflow\\lib\\site-packages\\tensorflow\\python\\framework\\dtypes.py:460: FutureWarning: Passing (type, 1) or '1type' as a synonym of type is deprecated; in a future version of numpy, it will be understood as (type, (1,)) / '(1,)type'.\n",
      "  _np_qint16 = np.dtype([(\"qint16\", np.int16, 1)])\n",
      "C:\\Users\\Administrator\\anaconda3\\envs\\tensorflow\\lib\\site-packages\\tensorflow\\python\\framework\\dtypes.py:461: FutureWarning: Passing (type, 1) or '1type' as a synonym of type is deprecated; in a future version of numpy, it will be understood as (type, (1,)) / '(1,)type'.\n",
      "  _np_quint16 = np.dtype([(\"quint16\", np.uint16, 1)])\n",
      "C:\\Users\\Administrator\\anaconda3\\envs\\tensorflow\\lib\\site-packages\\tensorflow\\python\\framework\\dtypes.py:462: FutureWarning: Passing (type, 1) or '1type' as a synonym of type is deprecated; in a future version of numpy, it will be understood as (type, (1,)) / '(1,)type'.\n",
      "  _np_qint32 = np.dtype([(\"qint32\", np.int32, 1)])\n",
      "C:\\Users\\Administrator\\anaconda3\\envs\\tensorflow\\lib\\site-packages\\tensorflow\\python\\framework\\dtypes.py:465: FutureWarning: Passing (type, 1) or '1type' as a synonym of type is deprecated; in a future version of numpy, it will be understood as (type, (1,)) / '(1,)type'.\n",
      "  np_resource = np.dtype([(\"resource\", np.ubyte, 1)])\n"
     ]
    }
   ],
   "source": [
    "import pandas as pd\n",
    "import numpy as np\n",
    "import tensorflow as tf"
   ]
  },
  {
   "cell_type": "markdown",
   "metadata": {},
   "source": [
    "# 准备数据"
   ]
  },
  {
   "cell_type": "code",
   "execution_count": 2,
   "metadata": {
    "collapsed": true
   },
   "outputs": [],
   "source": [
    "animes_df = pd.read_csv('E:/DataMining/final/anime.csv')\n",
    "ratings_df = pd.read_csv('E:/DataMining/final/rating.csv')\n",
    "animes_df = animes_df.dropna()\n",
    "ratings_df = ratings_df.dropna()"
   ]
  },
  {
   "cell_type": "code",
   "execution_count": 3,
   "metadata": {},
   "outputs": [
    {
     "data": {
      "text/html": [
       "<div>\n",
       "<style scoped>\n",
       "    .dataframe tbody tr th:only-of-type {\n",
       "        vertical-align: middle;\n",
       "    }\n",
       "\n",
       "    .dataframe tbody tr th {\n",
       "        vertical-align: top;\n",
       "    }\n",
       "\n",
       "    .dataframe thead th {\n",
       "        text-align: right;\n",
       "    }\n",
       "</style>\n",
       "<table border=\"1\" class=\"dataframe\">\n",
       "  <thead>\n",
       "    <tr style=\"text-align: right;\">\n",
       "      <th></th>\n",
       "      <th>anime_id</th>\n",
       "      <th>name</th>\n",
       "      <th>genre</th>\n",
       "      <th>type</th>\n",
       "      <th>episodes</th>\n",
       "      <th>rating</th>\n",
       "      <th>members</th>\n",
       "    </tr>\n",
       "  </thead>\n",
       "  <tbody>\n",
       "    <tr>\n",
       "      <th>0</th>\n",
       "      <td>32281</td>\n",
       "      <td>Kimi no Na wa.</td>\n",
       "      <td>Drama, Romance, School, Supernatural</td>\n",
       "      <td>Movie</td>\n",
       "      <td>1</td>\n",
       "      <td>9.37</td>\n",
       "      <td>200630</td>\n",
       "    </tr>\n",
       "    <tr>\n",
       "      <th>1</th>\n",
       "      <td>5114</td>\n",
       "      <td>Fullmetal Alchemist: Brotherhood</td>\n",
       "      <td>Action, Adventure, Drama, Fantasy, Magic, Mili...</td>\n",
       "      <td>TV</td>\n",
       "      <td>64</td>\n",
       "      <td>9.26</td>\n",
       "      <td>793665</td>\n",
       "    </tr>\n",
       "    <tr>\n",
       "      <th>2</th>\n",
       "      <td>28977</td>\n",
       "      <td>Gintama°</td>\n",
       "      <td>Action, Comedy, Historical, Parody, Samurai, S...</td>\n",
       "      <td>TV</td>\n",
       "      <td>51</td>\n",
       "      <td>9.25</td>\n",
       "      <td>114262</td>\n",
       "    </tr>\n",
       "    <tr>\n",
       "      <th>3</th>\n",
       "      <td>9253</td>\n",
       "      <td>Steins;Gate</td>\n",
       "      <td>Sci-Fi, Thriller</td>\n",
       "      <td>TV</td>\n",
       "      <td>24</td>\n",
       "      <td>9.17</td>\n",
       "      <td>673572</td>\n",
       "    </tr>\n",
       "    <tr>\n",
       "      <th>4</th>\n",
       "      <td>9969</td>\n",
       "      <td>Gintama&amp;#039;</td>\n",
       "      <td>Action, Comedy, Historical, Parody, Samurai, S...</td>\n",
       "      <td>TV</td>\n",
       "      <td>51</td>\n",
       "      <td>9.16</td>\n",
       "      <td>151266</td>\n",
       "    </tr>\n",
       "  </tbody>\n",
       "</table>\n",
       "</div>"
      ],
      "text/plain": [
       "   anime_id                              name  \\\n",
       "0     32281                    Kimi no Na wa.   \n",
       "1      5114  Fullmetal Alchemist: Brotherhood   \n",
       "2     28977                          Gintama°   \n",
       "3      9253                       Steins;Gate   \n",
       "4      9969                     Gintama&#039;   \n",
       "\n",
       "                                               genre   type episodes  rating  \\\n",
       "0               Drama, Romance, School, Supernatural  Movie        1    9.37   \n",
       "1  Action, Adventure, Drama, Fantasy, Magic, Mili...     TV       64    9.26   \n",
       "2  Action, Comedy, Historical, Parody, Samurai, S...     TV       51    9.25   \n",
       "3                                   Sci-Fi, Thriller     TV       24    9.17   \n",
       "4  Action, Comedy, Historical, Parody, Samurai, S...     TV       51    9.16   \n",
       "\n",
       "   members  \n",
       "0   200630  \n",
       "1   793665  \n",
       "2   114262  \n",
       "3   673572  \n",
       "4   151266  "
      ]
     },
     "execution_count": 3,
     "metadata": {},
     "output_type": "execute_result"
    }
   ],
   "source": [
    "animes_df.head()"
   ]
  },
  {
   "cell_type": "code",
   "execution_count": 4,
   "metadata": {},
   "outputs": [
    {
     "data": {
      "text/html": [
       "<div>\n",
       "<style scoped>\n",
       "    .dataframe tbody tr th:only-of-type {\n",
       "        vertical-align: middle;\n",
       "    }\n",
       "\n",
       "    .dataframe tbody tr th {\n",
       "        vertical-align: top;\n",
       "    }\n",
       "\n",
       "    .dataframe thead th {\n",
       "        text-align: right;\n",
       "    }\n",
       "</style>\n",
       "<table border=\"1\" class=\"dataframe\">\n",
       "  <thead>\n",
       "    <tr style=\"text-align: right;\">\n",
       "      <th></th>\n",
       "      <th>user_id</th>\n",
       "      <th>anime_id</th>\n",
       "      <th>rating</th>\n",
       "    </tr>\n",
       "  </thead>\n",
       "  <tbody>\n",
       "    <tr>\n",
       "      <th>0</th>\n",
       "      <td>1</td>\n",
       "      <td>20</td>\n",
       "      <td>-1</td>\n",
       "    </tr>\n",
       "    <tr>\n",
       "      <th>1</th>\n",
       "      <td>1</td>\n",
       "      <td>24</td>\n",
       "      <td>-1</td>\n",
       "    </tr>\n",
       "    <tr>\n",
       "      <th>2</th>\n",
       "      <td>1</td>\n",
       "      <td>79</td>\n",
       "      <td>-1</td>\n",
       "    </tr>\n",
       "    <tr>\n",
       "      <th>3</th>\n",
       "      <td>1</td>\n",
       "      <td>226</td>\n",
       "      <td>-1</td>\n",
       "    </tr>\n",
       "    <tr>\n",
       "      <th>4</th>\n",
       "      <td>1</td>\n",
       "      <td>241</td>\n",
       "      <td>-1</td>\n",
       "    </tr>\n",
       "  </tbody>\n",
       "</table>\n",
       "</div>"
      ],
      "text/plain": [
       "   user_id  anime_id  rating\n",
       "0        1        20      -1\n",
       "1        1        24      -1\n",
       "2        1        79      -1\n",
       "3        1       226      -1\n",
       "4        1       241      -1"
      ]
     },
     "execution_count": 4,
     "metadata": {},
     "output_type": "execute_result"
    }
   ],
   "source": [
    "ratings_df.head()"
   ]
  },
  {
   "cell_type": "code",
   "execution_count": 5,
   "metadata": {
    "collapsed": true
   },
   "outputs": [],
   "source": [
    "animes_df = animes_df.rename(columns={'rating':'anime_rating'})\n",
    "ratings_df = ratings_df.rename(columns={'rating':'user_rating'})\n",
    "ratings_df = ratings_df[ratings_df['user_id']<=1000]\n",
    "animes_df['anime_row'] = animes_df.index\n",
    "uratings_df = pd.merge(ratings_df, animes_df, on='anime_id')"
   ]
  },
  {
   "cell_type": "code",
   "execution_count": 6,
   "metadata": {
    "collapsed": true
   },
   "outputs": [],
   "source": [
    "uratings_df = uratings_df[['user_id', 'anime_row', 'user_rating']]"
   ]
  },
  {
   "cell_type": "code",
   "execution_count": 7,
   "metadata": {
    "scrolled": true
   },
   "outputs": [
    {
     "data": {
      "text/html": [
       "<div>\n",
       "<style scoped>\n",
       "    .dataframe tbody tr th:only-of-type {\n",
       "        vertical-align: middle;\n",
       "    }\n",
       "\n",
       "    .dataframe tbody tr th {\n",
       "        vertical-align: top;\n",
       "    }\n",
       "\n",
       "    .dataframe thead th {\n",
       "        text-align: right;\n",
       "    }\n",
       "</style>\n",
       "<table border=\"1\" class=\"dataframe\">\n",
       "  <thead>\n",
       "    <tr style=\"text-align: right;\">\n",
       "      <th></th>\n",
       "      <th>user_id</th>\n",
       "      <th>anime_row</th>\n",
       "      <th>user_rating</th>\n",
       "    </tr>\n",
       "  </thead>\n",
       "  <tbody>\n",
       "    <tr>\n",
       "      <th>0</th>\n",
       "      <td>1</td>\n",
       "      <td>841</td>\n",
       "      <td>-1</td>\n",
       "    </tr>\n",
       "    <tr>\n",
       "      <th>1</th>\n",
       "      <td>3</td>\n",
       "      <td>841</td>\n",
       "      <td>8</td>\n",
       "    </tr>\n",
       "    <tr>\n",
       "      <th>2</th>\n",
       "      <td>5</td>\n",
       "      <td>841</td>\n",
       "      <td>6</td>\n",
       "    </tr>\n",
       "    <tr>\n",
       "      <th>3</th>\n",
       "      <td>6</td>\n",
       "      <td>841</td>\n",
       "      <td>-1</td>\n",
       "    </tr>\n",
       "    <tr>\n",
       "      <th>4</th>\n",
       "      <td>10</td>\n",
       "      <td>841</td>\n",
       "      <td>-1</td>\n",
       "    </tr>\n",
       "  </tbody>\n",
       "</table>\n",
       "</div>"
      ],
      "text/plain": [
       "   user_id  anime_row  user_rating\n",
       "0        1        841           -1\n",
       "1        3        841            8\n",
       "2        5        841            6\n",
       "3        6        841           -1\n",
       "4       10        841           -1"
      ]
     },
     "execution_count": 7,
     "metadata": {},
     "output_type": "execute_result"
    }
   ],
   "source": [
    "uratings_df.head()"
   ]
  },
  {
   "cell_type": "markdown",
   "metadata": {},
   "source": [
    "# 构建动画评分矩阵urating和评分记录矩阵record"
   ]
  },
  {
   "cell_type": "code",
   "execution_count": 8,
   "metadata": {},
   "outputs": [],
   "source": [
    "userNo = uratings_df['user_id'].max()+1\n",
    "animeNo = uratings_df['anime_row'].max()+1"
   ]
  },
  {
   "cell_type": "code",
   "execution_count": 9,
   "metadata": {},
   "outputs": [
    {
     "name": "stdout",
     "output_type": "stream",
     "text": [
      "processed 5000, 91479 left\n",
      "processed 10000, 86479 left\n",
      "processed 15000, 81479 left\n",
      "processed 20000, 76479 left\n",
      "processed 25000, 71479 left\n",
      "processed 30000, 66479 left\n",
      "processed 35000, 61479 left\n",
      "processed 40000, 56479 left\n",
      "processed 45000, 51479 left\n",
      "processed 50000, 46479 left\n",
      "processed 55000, 41479 left\n",
      "processed 60000, 36479 left\n",
      "processed 65000, 31479 left\n",
      "processed 70000, 26479 left\n",
      "processed 75000, 21479 left\n",
      "processed 80000, 16479 left\n",
      "processed 85000, 11479 left\n",
      "processed 90000, 6479 left\n",
      "processed 95000, 1479 left\n"
     ]
    }
   ],
   "source": [
    "urating = np.zeros((animeNo, userNo))\n",
    "\n",
    "flag = 0\n",
    "uratings_df_length = np.shape(uratings_df)[0]\n",
    "\n",
    "for index, row in uratings_df.iterrows():\n",
    "    urating[int(row['anime_row']), int(row['user_id'])] = row['user_rating']\n",
    "    flag += 1\n",
    "    if flag % 5000 == 0:\n",
    "        print('processed %d, %d left' % (flag, uratings_df_length-flag))"
   ]
  },
  {
   "cell_type": "code",
   "execution_count": 10,
   "metadata": {},
   "outputs": [
    {
     "data": {
      "text/plain": [
       "array([[0., 0., 0., ..., 0., 0., 0.],\n",
       "       [0., 0., 0., ..., 0., 8., 0.],\n",
       "       [0., 0., 0., ..., 0., 0., 0.],\n",
       "       ...,\n",
       "       [0., 0., 0., ..., 0., 0., 0.],\n",
       "       [0., 0., 0., ..., 0., 0., 0.],\n",
       "       [0., 0., 0., ..., 0., 0., 0.]])"
      ]
     },
     "execution_count": 10,
     "metadata": {},
     "output_type": "execute_result"
    }
   ],
   "source": [
    "urating"
   ]
  },
  {
   "cell_type": "code",
   "execution_count": 11,
   "metadata": {},
   "outputs": [
    {
     "name": "stdout",
     "output_type": "stream",
     "text": [
      "[[0 0 0 ... 0 0 0]\n",
      " [0 0 0 ... 0 1 0]\n",
      " [0 0 0 ... 0 0 0]\n",
      " ...\n",
      " [0 0 0 ... 0 0 0]\n",
      " [0 0 0 ... 0 0 0]\n",
      " [0 0 0 ... 0 0 0]]\n"
     ]
    }
   ],
   "source": [
    "record = urating>0\n",
    "record = np.array(record, dtype=int)\n",
    "print(record)"
   ]
  },
  {
   "cell_type": "markdown",
   "metadata": {},
   "source": [
    "# 建立模型"
   ]
  },
  {
   "cell_type": "code",
   "execution_count": 12,
   "metadata": {
    "collapsed": true
   },
   "outputs": [],
   "source": [
    "# 对矩阵进行归一化\n",
    "def normalizeRatings(rating, record):\n",
    "    m, n = rating.shape\n",
    "    rating_mean = np.zeros((m, 1))\n",
    "    rating_norm = np.zeros((m, n))\n",
    "    for i in range(m):\n",
    "        idx = record[i, :] !=0\n",
    "        rating_mean[i] = np.mean(rating[i, idx])\n",
    "        rating_norm[i, idx] -= rating_mean[i]\n",
    "    return rating_norm, rating_mean"
   ]
  },
  {
   "cell_type": "code",
   "execution_count": 13,
   "metadata": {
    "scrolled": true
   },
   "outputs": [
    {
     "name": "stderr",
     "output_type": "stream",
     "text": [
      "C:\\Users\\Administrator\\anaconda3\\envs\\tensorflow\\lib\\site-packages\\numpy\\core\\fromnumeric.py:3373: RuntimeWarning: Mean of empty slice.\n",
      "  out=out, **kwargs)\n",
      "C:\\Users\\Administrator\\anaconda3\\envs\\tensorflow\\lib\\site-packages\\numpy\\core\\_methods.py:170: RuntimeWarning: invalid value encountered in double_scalars\n",
      "  ret = ret.dtype.type(ret / rcount)\n"
     ]
    }
   ],
   "source": [
    "rating_norm, rating_mean = normalizeRatings(urating, record)"
   ]
  },
  {
   "cell_type": "code",
   "execution_count": 14,
   "metadata": {
    "collapsed": true
   },
   "outputs": [],
   "source": [
    "# 使用0代替数组x中的nan元素，使用有限的数字代替inf元素\n",
    "rating_norm = np.nan_to_num(rating_norm)\n",
    "rating_mean = np.nan_to_num(rating_mean)"
   ]
  },
  {
   "cell_type": "code",
   "execution_count": 15,
   "metadata": {
    "collapsed": true
   },
   "outputs": [],
   "source": [
    "# 变量初始化\n",
    "num_features = 10\n",
    "X_parameters = tf.Variable(tf.random_normal([animeNo, num_features], stddev=0.35))\n",
    "Theta_paramters = tf.Variable(tf.random_normal([userNo, num_features], stddev=0.35))\n",
    "loss = 1/2 * tf.reduce_sum(((tf.matmul(X_parameters, Theta_paramters, transpose_b=True) - rating_norm)*record)**2) + \\\n",
    "    1/2 * (tf.reduce_sum(X_parameters**2) + tf.reduce_sum(Theta_paramters**2))\n",
    "optimizer = tf.train.AdamOptimizer()\n",
    "train = optimizer.minimize(loss)"
   ]
  },
  {
   "cell_type": "markdown",
   "metadata": {},
   "source": [
    "# 训练模型"
   ]
  },
  {
   "cell_type": "code",
   "execution_count": 16,
   "metadata": {
    "collapsed": true
   },
   "outputs": [],
   "source": [
    "tf.summary.scalar('loss', loss)\n",
    "summaryMerged = tf.summary.merge_all()\n",
    "filename = './anime_tensorboard'\n",
    "writer = tf.summary.FileWriter(filename)"
   ]
  },
  {
   "cell_type": "code",
   "execution_count": 17,
   "metadata": {
    "collapsed": true
   },
   "outputs": [],
   "source": [
    "sess = tf.Session()\n",
    "init = tf.global_variables_initializer()\n",
    "sess.run(init)"
   ]
  },
  {
   "cell_type": "code",
   "execution_count": 18,
   "metadata": {},
   "outputs": [
    {
     "name": "stdout",
     "output_type": "stream",
     "text": [
      "step: 0  train loss:0.19934  test loss:20.05331\n",
      "step: 100  train loss:0.19348  test loss:19.93365\n",
      "step: 200  train loss:0.16847  test loss:18.73147\n",
      "step: 300  train loss:0.12297  test loss:15.65239\n",
      "step: 400  train loss:0.07452  test loss:11.63015\n",
      "step: 500  train loss:0.03756  test loss:7.97349\n",
      "step: 600  train loss:0.01663  test loss:5.42218\n",
      "step: 700  train loss:0.00750  test loss:3.94906\n",
      "step: 800  train loss:0.00409  test loss:3.17102\n",
      "step: 900  train loss:0.00283  test loss:2.75935\n",
      "step: 1000  train loss:0.00233  test loss:2.53069\n",
      "step: 1100  train loss:0.00211  test loss:2.39559\n",
      "step: 1200  train loss:0.00201  test loss:2.31068\n",
      "step: 1300  train loss:0.00195  test loss:2.25407\n",
      "step: 1400  train loss:0.00191  test loss:2.21419\n",
      "step: 1500  train loss:0.00187  test loss:2.18463\n",
      "step: 1600  train loss:0.00185  test loss:2.16167\n",
      "step: 1700  train loss:0.00182  test loss:2.14311\n",
      "step: 1800  train loss:0.00180  test loss:2.12755\n",
      "step: 1900  train loss:0.00177  test loss:2.11414\n",
      "step: 2000  train loss:0.00175  test loss:2.10230\n",
      "step: 2100  train loss:0.00173  test loss:2.09165\n",
      "step: 2200  train loss:0.00170  test loss:2.08195\n",
      "step: 2300  train loss:0.00168  test loss:2.07303\n",
      "step: 2400  train loss:0.00166  test loss:2.06478\n",
      "step: 2500  train loss:0.00164  test loss:2.05712\n",
      "step: 2600  train loss:0.00163  test loss:2.05002\n",
      "step: 2700  train loss:0.00161  test loss:2.04343\n",
      "step: 2800  train loss:0.00159  test loss:2.03734\n",
      "step: 2900  train loss:0.00157  test loss:2.03171\n",
      "step: 3000  train loss:0.00156  test loss:2.02654\n",
      "step: 3100  train loss:0.00154  test loss:2.02181\n",
      "step: 3200  train loss:0.00153  test loss:2.01750\n",
      "step: 3300  train loss:0.00151  test loss:2.01359\n",
      "step: 3400  train loss:0.00150  test loss:2.01008\n",
      "step: 3500  train loss:0.00149  test loss:2.00695\n",
      "step: 3600  train loss:0.00147  test loss:2.00419\n",
      "step: 3700  train loss:0.00146  test loss:2.00178\n",
      "step: 3800  train loss:0.00145  test loss:1.99972\n",
      "step: 3900  train loss:0.00144  test loss:1.99798\n",
      "step: 4000  train loss:0.00143  test loss:1.99657\n",
      "step: 4100  train loss:0.00142  test loss:1.99548\n",
      "step: 4200  train loss:0.00141  test loss:1.99469\n",
      "step: 4300  train loss:0.00140  test loss:1.99420\n",
      "step: 4400  train loss:0.00139  test loss:1.99400\n",
      "step: 4500  train loss:0.00138  test loss:1.99410\n",
      "step: 4600  train loss:0.00137  test loss:1.99449\n",
      "step: 4700  train loss:0.00136  test loss:1.99516\n",
      "step: 4800  train loss:0.00135  test loss:1.99612\n",
      "step: 4900  train loss:0.00134  test loss:1.99737\n"
     ]
    }
   ],
   "source": [
    "penalty = animeNo*userNo\n",
    "\n",
    "for i in range(5000):\n",
    "    l, _, anime_summary = sess.run([loss, train, summaryMerged])\n",
    "    if i%100 == 0:\n",
    "        Current_X_parameters, Current_Theta_parameters = sess.run([X_parameters, Theta_paramters])\n",
    "        predicts = np.dot(Current_X_parameters,Current_Theta_parameters.T) + rating_mean\n",
    "        errors = np.mean((predicts - urating)**2)\n",
    "        print('step:', i, ' train loss:%.5f' % (l/penalty), ' test loss:%.5f' % errors)\n",
    "    writer.add_summary(anime_summary, i)"
   ]
  },
  {
   "cell_type": "code",
   "execution_count": 19,
   "metadata": {},
   "outputs": [
    {
     "name": "stdout",
     "output_type": "stream",
     "text": [
      "1.9988971548139247\n"
     ]
    }
   ],
   "source": [
    "Current_X_parameters, Current_Theta_parameters = sess.run([X_parameters, Theta_paramters])\n",
    "predicts = np.dot(Current_X_parameters,Current_Theta_parameters.T) + rating_mean\n",
    "errors = np.mean((predicts - urating)**2)\n",
    "print(errors)"
   ]
  },
  {
   "cell_type": "markdown",
   "metadata": {},
   "source": [
    "# 动漫推荐系统"
   ]
  },
  {
   "cell_type": "code",
   "execution_count": 20,
   "metadata": {},
   "outputs": [
    {
     "name": "stdout",
     "output_type": "stream",
     "text": [
      "您要向哪位用户进行推荐？请输入用户编号：73\n",
      "==============================为该用户推荐的评分最高的20部动画是：===============================\n",
      "评分：8.98, 动画名：Dirty Pair\n",
      "评分：6.37, 动画名：Tokimeki Tonight\n",
      "评分：6.37, 动画名：Tobe! Isami\n",
      "评分：6.35, 动画名：Ring ni Kakero 1: Nichibei Kessen-hen\n",
      "评分：6.34, 动画名：Uchuu Senkan Yamato: Kanketsu-hen\n",
      "评分：6.34, 动画名：Lady Georgie\n",
      "评分：6.34, 动画名：Ginga Tetsudou 999: Kimi wa Haha no You ni Aiseru ka!!\n",
      "评分：6.34, 动画名：Ai Shoujo Pollyanna Story\n",
      "评分：6.34, 动画名：Pucca\n",
      "评分：6.33, 动画名：Ro-Kyu-Bu!: Tomoka no Ichigo Sundae\n",
      "评分：6.33, 动画名：Ougon Bat\n",
      "评分：6.33, 动画名：Shinkon Gattai Godannar!! 2nd Season\n",
      "评分：6.33, 动画名：Sekai Meisaku Douwa: Hakuchou no Mizuumi\n",
      "评分：6.33, 动画名：Shoukoushi Cedie\n",
      "评分：6.32, 动画名：Hello! Sandybell\n",
      "评分：6.32, 动画名：Hoshi no Oujisama Petit Prince\n",
      "评分：6.31, 动画名：Usavich\n",
      "评分：6.31, 动画名：Miracle Giants Doumu-kun\n",
      "评分：6.30, 动画名：Bananya\n",
      "评分：6.29, 动画名：Bosco Daibouken\n"
     ]
    }
   ],
   "source": [
    "user_id = input('您要向哪位用户进行推荐？请输入用户编号：')\n",
    "\n",
    "sortedResult = predicts[:, int(user_id)].argsort()[::-1]\n",
    "\n",
    "idx = 0\n",
    "print('为该用户推荐的评分最高的20部动画是：'.center(80, '='))\n",
    "for i in sortedResult:\n",
    "    print('评分：%.2f, 动画名：%s' % (predicts[i, int(user_id)], animes_df.iloc[i]['name']))\n",
    "    idx += 1\n",
    "    if idx == 20: break"
   ]
  },
  {
   "cell_type": "code",
   "execution_count": null,
   "metadata": {
    "collapsed": true
   },
   "outputs": [],
   "source": []
  }
 ],
 "metadata": {
  "kernelspec": {
   "display_name": "Python 3",
   "language": "python",
   "name": "python3"
  },
  "language_info": {
   "codemirror_mode": {
    "name": "ipython",
    "version": 3
   },
   "file_extension": ".py",
   "mimetype": "text/x-python",
   "name": "python",
   "nbconvert_exporter": "python",
   "pygments_lexer": "ipython3",
   "version": "3.6.2"
  }
 },
 "nbformat": 4,
 "nbformat_minor": 4
}
